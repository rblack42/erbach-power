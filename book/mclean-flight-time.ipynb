{
 "cells": [
  {
   "cell_type": "markdown",
   "id": "975f3059",
   "metadata": {},
   "source": [
    "# McLean's Flight Time Code"
   ]
  },
  {
   "cell_type": "markdown",
   "id": "6d45af1c",
   "metadata": {},
   "source": [
    "A model in level flight has four basic forces at work: lift, weight, drag, and thrust. The total lift force must equal the weight of the model, and the total drag force must equal the thrust for the flight to remain level. Therefore:\n",
    "\n",
    "\\begin{equation}\n",
    "L_t = W_t\n",
    "\\end{equation}\n",
    "\n",
    "where:\n",
    "\n",
    "\\begin{equation}\n",
    "L_t = L_w + L_s\n",
    "\\end{equation}\n",
    "and\n",
    "\n",
    "\\begin{equation}\n",
    "D_t = T\n",
    "\\end{equation}"
   ]
  },
  {
   "cell_type": "markdown",
   "id": "5ce82706",
   "metadata": {},
   "source": [
    "## Lift and Drag Forces\n",
    "\n",
    "The flying surfaces generate the lift and drag, and we are concerned that our airfoils on these surfaces meet our overall goals of a stable, efficient flight. But without getting too deep into the theory, basically, the movement of the airfoil through the air causes a pressure distribution to appear on the surface of the surface, and a shear force due to the friction between the air and the surface itself. If we integrate the sum of both pressure and shear forces, we will come up with an overall aerodynamic force acting on that flying surface. the vertical component of that force is called *lift* and the horizontal component is called *drag*.It turns out that the overall aerodynamic force acts at something called the *center of pressure*, which is an inconvenient place to deal with because it moves around with angle of attack. So, by convention, we say the lift and drag forces act on an *aerodynamic center which is located at at the quarter chord point on the surface. Since this point is not at the center of pressure, applying a force there will generate a moment about the real center of pressure, so we add in that moment to get the total forces acting on the surface.\n",
    "\n",
    "In level flight, we want the forces to balance,meaning we need for the lift to equal the weight, the thrust to equal the drag. Wemust alsomake sure that the moments all sum to zero so the airplane remains level. We measure the moments by using the *center of gravity* as a reference point, since the weight is acting through that point. For that reason, we will calculate moments for all forces using the **cg** reference point.\n",
    "\n",
    "In the development below, we are assuming that the weight, thrust and drag all act through the **CG**, so they do not contribute to the moment calculations.\n",
    "\n",
    "For each flying surface, we will have two moment contributions: one due to the lift force acting at some distance from the **CG**, and a second due to the pitching moment of the airfoil. Here is a simple diagram showing the basic geometry we will be using:"
   ]
  },
  {
   "cell_type": "code",
   "execution_count": 42,
   "id": "a8951fc2",
   "metadata": {},
   "outputs": [
    {
     "name": "stdout",
     "output_type": "stream",
     "text": [
      "The tikzmagic extension is already loaded. To reload it, use:\n",
      "  %reload_ext tikzmagic\n"
     ]
    }
   ],
   "source": [
    "%reload_ext tikzmagic"
   ]
  },
  {
   "cell_type": "code",
   "execution_count": 43,
   "id": "e9ac2b35",
   "metadata": {},
   "outputs": [
    {
     "data": {
      "image/png": "[encoded data removed]"
     },
     "metadata": {},
     "output_type": "display_data"
    }
   ],
   "source": [
    "%%tikz\n",
    "\\draw (0,0) -- (5,0) -- (5,-0.25) -- (0,-0.25) -- cycle;\n",
    "\\draw[->] (1,0) -- (1,2) node[above]{$L_w$};\n",
    "\\draw[->] (4,0) -- (4,2) node[above]{$L_s$};\n",
    "\\node[below] at (2,-1){CG};\n",
    "\\draw[->] (2,-1) -- (2,-0.25);\n",
    "\\draw[<->](1,1.5) -- node[above]{l}(4,1.5);\n",
    "\\draw[<->](1,0.75) -- node[above]{x} (2,0.75);\n",
    "\\draw (2,0) -- (2,1);"
   ]
  },
  {
   "cell_type": "markdown",
   "id": "49fac706",
   "metadata": {},
   "source": [
    "By convention a positive pitching moment results in a nose up condition. \n",
    "\n",
    "We define three basic aerodynamic coefficients:\n",
    "    \n",
    "\\begin{equation}\n",
    "C_l = \\frac{L}{q S}\n",
    "\\end{equation}\n",
    "\n",
    "Where $L$L is the lift, $q$ is the dynamic pressure $\\frac{1}{2}\\rho u^2$, and S is the surface area.\n",
    "\n",
    "Similarly:\n",
    "\n",
    "\\begin{equation}\n",
    "C_d = \\frac{D}{q S}\n",
    "\\end{equation}\n",
    "\n",
    "and\n",
    "\n",
    "\\begin{equation}\n",
    "C_m = \\frac{M}{q S c}\n",
    "\\end{equation}\n",
    "\n",
    "In these equations, $D$ is the drag force, and $c$ is the chord."
   ]
  },
  {
   "cell_type": "markdown",
   "id": "2660f1ca",
   "metadata": {},
   "source": [
    "From this point, we will use *Python* *SymPy* to help us with the derivations we need."
   ]
  },
  {
   "cell_type": "code",
   "execution_count": 3,
   "id": "9fd16b5a",
   "metadata": {},
   "outputs": [],
   "source": [
    "import sympy"
   ]
  },
  {
   "cell_type": "code",
   "execution_count": 45,
   "id": "89308bb0",
   "metadata": {},
   "outputs": [],
   "source": [
    "L_w, S_w, C_w, C_lw, C_mw= sympy.symbols('L_w S_w C_w C_lw C_mw')\n",
    "L_s, S_s, C_s, C_ls, C_ms = sympy.symbols('L_s S_s C_s C_ls C_ms')\n",
    "q,l,x = sympy.symbols('q l x')"
   ]
  },
  {
   "cell_type": "markdown",
   "id": "9da742af",
   "metadata": {},
   "source": [
    "From of diagram, we can calculate the moments due to lift from the wing and stab:"
   ]
  },
  {
   "cell_type": "code",
   "execution_count": 46,
   "id": "69d0fa46",
   "metadata": {},
   "outputs": [],
   "source": [
    "M_w = L_w * x\n",
    "M_s = - L_s * (l - x)"
   ]
  },
  {
   "cell_type": "markdown",
   "id": "2414b69e",
   "metadata": {},
   "source": [
    "The moments for the wing and stab are:"
   ]
  },
  {
   "cell_type": "code",
   "execution_count": 49,
   "id": "7d713d56",
   "metadata": {},
   "outputs": [],
   "source": [
    "M_pw = C_mw * q * S_w * C_w\n",
    "M_ps = C_ms * q * S_s * C_s"
   ]
  },
  {
   "cell_type": "markdown",
   "id": "9a896e8c",
   "metadata": {},
   "source": [
    "Our equilibrium condition says that all of these moments must sum to zero. "
   ]
  },
  {
   "cell_type": "code",
   "execution_count": 50,
   "id": "e8304216",
   "metadata": {},
   "outputs": [
    {
     "data": {
      "text/latex": [
       "$\\displaystyle C_{ms} C_{s} S_{s} q + C_{mw} C_{w} S_{w} q - L_{s} \\left(l - x\\right) + L_{w} x$"
      ],
      "text/plain": [
       "C_ms*C_s*S_s*q + C_mw*C_w*S_w*q - L_s*(l - x) + L_w*x"
      ]
     },
     "execution_count": 50,
     "metadata": {},
     "output_type": "execute_result"
    }
   ],
   "source": [
    "eq1 = M_w + M_s + M_pw + M_ps\n",
    "eq1"
   ]
  },
  {
   "cell_type": "markdown",
   "id": "66cabab0",
   "metadata": {},
   "source": [
    "We need to use the lift coefficient definitions to eliminate the lift terms here:"
   ]
  },
  {
   "cell_type": "code",
   "execution_count": 57,
   "id": "bd429f2e",
   "metadata": {},
   "outputs": [
    {
     "data": {
      "text/latex": [
       "$\\displaystyle - C_{ls} S_{s} q \\left(l - x\\right) + C_{lw} S_{w} q x + C_{ms} C_{s} S_{s} q + C_{mw} C_{w} S_{w} q$"
      ],
      "text/plain": [
       "-C_ls*S_s*q*(l - x) + C_lw*S_w*q*x + C_ms*C_s*S_s*q + C_mw*C_w*S_w*q"
      ]
     },
     "execution_count": 57,
     "metadata": {},
     "output_type": "execute_result"
    }
   ],
   "source": [
    "eq2 = eq1.subs(L_w, C_lw * q * S_w)\n",
    "eq3 = eq2.subs(L_s, C_ls * q *S_s)\n",
    "eq3"
   ]
  },
  {
   "cell_type": "markdown",
   "id": "ef26de4e",
   "metadata": {},
   "source": [
    "McLean assumed a lift coefficient of 1 for the wing, and used this equation to calculate the lift coefficient for the stab. Let's solve this expression for the stab lift coefficient:"
   ]
  },
  {
   "cell_type": "code",
   "execution_count": 58,
   "id": "daff50ca",
   "metadata": {},
   "outputs": [
    {
     "data": {
      "text/latex": [
       "$\\displaystyle \\frac{C_{lw} S_{w} x + C_{ms} C_{s} S_{s} + C_{mw} C_{w} S_{w}}{S_{s} \\left(l - x\\right)}$"
      ],
      "text/plain": [
       "(C_lw*S_w*x + C_ms*C_s*S_s + C_mw*C_w*S_w)/(S_s*(l - x))"
      ]
     },
     "execution_count": 58,
     "metadata": {},
     "output_type": "execute_result"
    }
   ],
   "source": [
    "eq4 = sympy.solve(eq3, C_ls)\n",
    "eq5 = eq4[0]\n",
    "eq5"
   ]
  },
  {
   "cell_type": "markdown",
   "id": "f47eb5bd",
   "metadata": {},
   "source": [
    "```{note}\n",
    "The *SymPy* solver returns a list of expressions, so we index that list here\n",
    "```\n",
    "\n",
    "Does this match McLean's equation?"
   ]
  },
  {
   "cell_type": "code",
   "execution_count": 59,
   "id": "363e6404",
   "metadata": {},
   "outputs": [
    {
     "data": {
      "text/latex": [
       "$\\displaystyle \\frac{C_{w} S_{w} \\left(\\frac{C_{ms} C_{s} S_{s}}{C_{w} S_{w}} + C_{mw} - \\frac{x}{C_{w}}\\right)}{S_{s} l \\left(1 + \\frac{x}{l}\\right)}$"
      ],
      "text/plain": [
       "C_w*S_w*(C_ms*C_s*S_s/(C_w*S_w) + C_mw - x/C_w)/(S_s*l*(1 + x/l))"
      ]
     },
     "execution_count": 59,
     "metadata": {},
     "output_type": "execute_result"
    }
   ],
   "source": [
    "eq6 = (- x/C_w + C_mw + C_ms * S_s * C_s/(S_w*C_w))/((1 + x/l)*S_s * l /(S_w*C_w))\n",
    "eq6"
   ]
  },
  {
   "cell_type": "markdown",
   "id": "066b1670",
   "metadata": {},
   "source": [
    "That does not look the same, can *SymPy* help?"
   ]
  },
  {
   "cell_type": "code",
   "execution_count": 60,
   "id": "38af65fb",
   "metadata": {},
   "outputs": [
    {
     "data": {
      "text/latex": [
       "$\\displaystyle \\frac{C_{lw} S_{w} x}{S_{s} l - S_{s} x} + \\frac{C_{ms} C_{s} S_{s}}{S_{s} l - S_{s} x} + \\frac{C_{mw} C_{w} S_{w}}{S_{s} l - S_{s} x}$"
      ],
      "text/plain": [
       "C_lw*S_w*x/(S_s*l - S_s*x) + C_ms*C_s*S_s/(S_s*l - S_s*x) + C_mw*C_w*S_w/(S_s*l - S_s*x)"
      ]
     },
     "execution_count": 60,
     "metadata": {},
     "output_type": "execute_result"
    }
   ],
   "source": [
    "eq7 = eq5.expand()\n",
    "eq7"
   ]
  },
  {
   "cell_type": "code",
   "execution_count": 62,
   "id": "772c7b48",
   "metadata": {},
   "outputs": [
    {
     "data": {
      "text/latex": [
       "$\\displaystyle \\frac{C_{ms} C_{s} S_{s}}{S_{s} l + S_{s} x} + \\frac{C_{mw} C_{w} S_{w}}{S_{s} l + S_{s} x} - \\frac{S_{w} x}{S_{s} l + S_{s} x}$"
      ],
      "text/plain": [
       "C_ms*C_s*S_s/(S_s*l + S_s*x) + C_mw*C_w*S_w/(S_s*l + S_s*x) - S_w*x/(S_s*l + S_s*x)"
      ]
     },
     "execution_count": 62,
     "metadata": {},
     "output_type": "execute_result"
    }
   ],
   "source": [
    "eq8 = eq6.expand()\n",
    "eq8"
   ]
  },
  {
   "cell_type": "markdown",
   "id": "1df929e1",
   "metadata": {},
   "source": [
    "Now we see a problem, the signs in the denominator of these terms are different. Why?\n",
    "\n",
    "Let's check our formula if the pitching moments are both zero. That means the moment from the wing lift must equal the moment from the tail lift.\n",
    "\n",
    "First, we eliminate the moment coefficient terms:"
   ]
  },
  {
   "cell_type": "code",
   "execution_count": 68,
   "id": "c6942221",
   "metadata": {},
   "outputs": [
    {
     "data": {
      "text/latex": [
       "$\\displaystyle \\frac{C_{lw} S_{w} x}{S_{s} \\left(l - x\\right)}$"
      ],
      "text/plain": [
       "C_lw*S_w*x/(S_s*(l - x))"
      ]
     },
     "execution_count": 68,
     "metadata": {},
     "output_type": "execute_result"
    }
   ],
   "source": [
    "eq9 = eq5.subs(C_mw,0)\n",
    "eq10 = eq9.subs(C_ms,0)\n",
    "eq10"
   ]
  },
  {
   "cell_type": "markdown",
   "id": "6c6fea40",
   "metadata": {},
   "source": [
    "Our equilibrium equation is now:"
   ]
  },
  {
   "cell_type": "code",
   "execution_count": 71,
   "id": "84c9b922",
   "metadata": {},
   "outputs": [
    {
     "data": {
      "text/latex": [
       "$\\displaystyle 0$"
      ],
      "text/plain": [
       "0"
      ]
     },
     "execution_count": 71,
     "metadata": {},
     "output_type": "execute_result"
    }
   ],
   "source": [
    "eq11 = C_lw * q * S_w* x - eq10 * q * S_s * (l-x)\n",
    "eq11"
   ]
  },
  {
   "cell_type": "markdown",
   "id": "09a20c68",
   "metadata": {},
   "source": [
    "This is what we want to see. The expression and development we worked through look to be correct!\n",
    "\n",
    "Let's try the same idea using the equation in the paper:"
   ]
  },
  {
   "cell_type": "code",
   "execution_count": 74,
   "id": "a2fe0113",
   "metadata": {},
   "outputs": [
    {
     "data": {
      "text/latex": [
       "$\\displaystyle - \\frac{S_{w} x}{S_{s} l + S_{s} x}$"
      ],
      "text/plain": [
       "-S_w*x/(S_s*l + S_s*x)"
      ]
     },
     "execution_count": 74,
     "metadata": {},
     "output_type": "execute_result"
    }
   ],
   "source": [
    "eq12 = eq6.subs(C_mw,0)\n",
    "eq13 = eq12.subs(C_ms,0)\n",
    "eq13.expand()"
   ]
  },
  {
   "cell_type": "markdown",
   "id": "49871209",
   "metadata": {},
   "source": [
    "Clearly, this will not work when we try our equilibrium expression. I am going to let this go as a typo in McLean's report."
   ]
  },
  {
   "cell_type": "code",
   "execution_count": 76,
   "id": "fd19ff17",
   "metadata": {},
   "outputs": [
    {
     "data": {
      "text/latex": [
       "$\\displaystyle C_{lw} S_{w} q x + \\frac{S_{w} q x \\left(l - x\\right)}{l \\left(1 + \\frac{x}{l}\\right)}$"
      ],
      "text/plain": [
       "C_lw*S_w*q*x + S_w*q*x*(l - x)/(l*(1 + x/l))"
      ]
     },
     "execution_count": 76,
     "metadata": {},
     "output_type": "execute_result"
    }
   ],
   "source": [
    "eq14 = C_lw * q * S_w* x - eq13 * q * S_s * (l-x)\n",
    "eq14"
   ]
  },
  {
   "cell_type": "code",
   "execution_count": null,
   "id": "6bb5689a",
   "metadata": {},
   "outputs": [],
   "source": [
    "Definitely not zero!"
   ]
  },
  {
   "cell_type": "markdown",
   "id": "8810e82b",
   "metadata": {},
   "source": [
    "## Total Lift Coefficient\n",
    "\n",
    "The total lift is the sum of the ift from the wing and tail. Tus the total lift coefficient is just the sum of the wing and stab lift coefficients:"
   ]
  },
  {
   "cell_type": "code",
   "execution_count": 79,
   "id": "cc0f6f7c",
   "metadata": {},
   "outputs": [
    {
     "data": {
      "text/latex": [
       "$\\displaystyle C_{lw} + \\frac{C_{lw} S_{w} x + C_{ms} C_{s} S_{s} + C_{mw} C_{w} S_{w}}{S_{s} \\left(l - x\\right)}$"
      ],
      "text/plain": [
       "C_lw + (C_lw*S_w*x + C_ms*C_s*S_s + C_mw*C_w*S_w)/(S_s*(l - x))"
      ]
     },
     "execution_count": 79,
     "metadata": {},
     "output_type": "execute_result"
    }
   ],
   "source": [
    "C_ltotal = C_lw + eq5\n",
    "C_ltotal"
   ]
  },
  {
   "cell_type": "markdown",
   "id": "7df56732",
   "metadata": {},
   "source": [
    "From McLean's equation we get this:"
   ]
  },
  {
   "cell_type": "code",
   "execution_count": null,
   "id": "df992031",
   "metadata": {},
   "outputs": [],
   "source": [
    "M_Ltotal = C_lw + "
   ]
  },
  {
   "cell_type": "markdown",
   "id": "99d8b1dd",
   "metadata": {},
   "source": [
    "- $C_{lf} = 1.0$ - wing lift coefficient\n",
    "- $C_{mf} = -0.10$ - wing pitching moment\n",
    "- $C_{mr} = -0.05$ - stab pitching moment\n",
    "- $S_f = 30.0$ - wing area rule limit for A6 class\n",
    "- $S_r = 15.0$ - stab surface area (~50%)\n",
    "- $b_f = 15.5$ - projected span (TODO fix this)\n",
    "- $C_f = 1.94$ - mean aerodynamic chord of wing ($S_f / b_f$)"
   ]
  },
  {
   "cell_type": "code",
   "execution_count": null,
   "id": "acbd52b1",
   "metadata": {},
   "outputs": [],
   "source": [
    "\n"
   ]
  }
 ],
 "metadata": {
  "kernelspec": {
   "display_name": "Python 3 (ipykernel)",
   "language": "python",
   "name": "python3"
  },
  "language_info": {
   "codemirror_mode": {
    "name": "ipython",
    "version": 3
   },
   "file_extension": ".py",
   "mimetype": "text/x-python",
   "name": "python",
   "nbconvert_exporter": "python",
   "pygments_lexer": "ipython3",
   "version": "3.9.9"
  },
  "latex_envs": {
   "LaTeX_envs_menu_present": true,
   "autoclose": false,
   "autocomplete": true,
   "bibliofile": "biblio.bib",
   "cite_by": "apalike",
   "current_citInitial": 1,
   "eqLabelWithNumbers": true,
   "eqNumInitial": 1,
   "hotkeys": {
    "equation": "Ctrl-E",
    "itemize": "Ctrl-I"
   },
   "labels_anchors": false,
   "latex_user_defs": false,
   "report_style_numbering": false,
   "user_envs_cfg": false
  },
  "toc": {
   "base_numbering": 1,
   "nav_menu": {},
   "number_sections": true,
   "sideBar": true,
   "skip_h1_title": false,
   "title_cell": "Table of Contents",
   "title_sidebar": "Contents",
   "toc_cell": false,
   "toc_position": {},
   "toc_section_display": true,
   "toc_window_display": false
  },
  "varInspector": {
   "cols": {
    "lenName": 16,
    "lenType": 16,
    "lenVar": 40
   },
   "kernels_config": {
    "python": {
     "delete_cmd_postfix": "",
     "delete_cmd_prefix": "del ",
     "library": "var_list.py",
     "varRefreshCmd": "print(var_dic_list())"
    },
    "r": {
     "delete_cmd_postfix": ") ",
     "delete_cmd_prefix": "rm(",
     "library": "var_list.r",
     "varRefreshCmd": "cat(var_dic_list()) "
    }
   },
   "types_to_exclude": [
    "module",
    "function",
    "builtin_function_or_method",
    "instance",
    "_Feature"
   ],
   "window_display": false
  }
 },
 "nbformat": 4,
 "nbformat_minor": 5
}
